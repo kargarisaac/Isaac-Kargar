{
 "cells": [
  {
   "cell_type": "markdown",
   "metadata": {},
   "source": [
    "# \"Data Engineering - Week 3\"\n",
    "> \"Week 3 - Data Engineering Zoomcamp course.\"\n",
    "\n",
    "- toc: True\n",
    "- branch: master\n",
    "- badges: true\n",
    "- comments: true\n",
    "- categories: [data engineering, jupyter]\n",
    "- image: images/some_folder/your_image.png\n",
    "- hide: false\n",
    "- search_exclude: true"
   ]
  },
  {
   "cell_type": "markdown",
   "metadata": {},
   "source": [
    "# Data Warehouse and BigQuery\n",
    "\n",
    "## OLTP vs OLAP\n",
    "\n",
    "The two terms look similar but refer to different kinds of systems. Online transaction processing (OLTP) captures, stores, and processes data from transactions in real time. Online analytical processing (OLAP) uses complex queries to analyze aggregated historical data from OLTP systems.\n",
    "\n",
    "An OLTP system is a database that captures and retains transaction data. Individual database entries made up of numerous fields or columns are involved in each transaction. Banking and credit card transactions, as well as retail checkout scanning, are examples.\n",
    "Because OLTP databases are read, written, and updated frequently, the emphasis in OLTP is on fast processing. Built-in system logic protects data integrity if a transaction fails.\n",
    "\n",
    "For data mining, analytics, and business intelligence initiatives, OLAP applies complicated queries to massive amounts of historical data aggregated from OLTP databases and other sources. The emphasis in OLAP is on query response speed for these complicated queries. Each query has one or more columns of data derived from a large number of rows. Financial performance year over year or marketing lead generation trends are two examples. Analysts and decision-makers can utilize custom reporting tools to turn data into information using OLAP databases and data warehouses. OLAP query failure does not affect or delay client transaction processing, but it can affect or delay the accuracy of business intelligence insights. [[ref](https://www.stitchdata.com/resources/oltp-vs-olap/#:~:text=OLTP%20and%20OLAP%3A%20The%20two,historical%20data%20from%20OLTP%20systems.)]\n",
    "\n",
    "![](images/data-engineering-w3/1.png)\n",
    "\n",
    "![](images/data-engineering-w3/2.png)\n"
   ]
  },
  {
   "cell_type": "markdown",
   "metadata": {},
   "source": [
    "## Data Warehouse\n",
    "\n",
    "> youtube: https://youtu.be/jrHljAoD6nM"
   ]
  },
  {
   "cell_type": "markdown",
   "metadata": {},
   "source": [
    "A data warehouse (DW or DWH), often known as an enterprise data warehouse (EDW), is a reporting and data analysis system that is considered a key component of business intelligence. DWs are central data repositories that combine data from a variety of sources. They keep current and historical data in one place and utilize it to generate analytical reports for employees across the company.\n",
    "\n",
    "The data in the warehouse comes from the operating systems and is uploaded there (such as marketing or sales). Before being used in the DW for reporting, the data may transit via an operational data store and require data cleansing for extra procedures to ensure data quality.\n",
    "\n",
    "The two major methodologies used to design a data warehouse system are extract, transform, load (ETL) and extract, load, transform (ELT). [[wikipedia](https://en.wikipedia.org/wiki/Data_warehouse)]\n",
    "\n",
    "![](images/data-engineering-w3/3.png)\n"
   ]
  },
  {
   "cell_type": "markdown",
   "metadata": {},
   "source": [
    "## BigQuery\n",
    "\n",
    "BigQuery is a fully managed enterprise data warehouse that helps you manage and analyze your data with built-in features like machine learning, geospatial analysis, and business intelligence. BigQuery's serverless architecture lets you use SQL queries to answer your organization's biggest questions with zero infrastructure management. BigQuery's scalable, distributed analysis engine lets you query terabytes in seconds and petabytes in minutes.\n",
    "\n",
    "BigQuery maximizes flexibility by separating the compute engine that analyzes your data from your storage choices. You can store and analyze your data within BigQuery or use BigQuery to assess your data where it lives. Federated queries let you read data from external sources while streaming supports continuous data updates. Powerful tools like BigQuery ML and BI Engine let you analyze and understand that data.\n",
    "\n",
    "BigQuery interfaces include Google Cloud Console interface and the BigQuery command-line tool. Developers and data scientists can use client libraries with familiar programming including Python, Java, JavaScript, and Go, as well as BigQuery's REST API and RPC API to transform and manage data. ODBC and JDBC drivers provide interaction with existing applications including third-party tools and utilities.\n",
    "\n",
    "As a data analyst, data engineer, data warehouse administrator, or data scientist, the BigQuery ML documentation helps you discover, implement, and manage data tools to inform critical business decisions. [[BigQuery docs](https://cloud.google.com/bigquery/docs/introduction)]\n",
    "\n",
    "> youtube: https://youtu.be/CFw4peH2UwU"
   ]
  },
  {
   "cell_type": "markdown",
   "metadata": {},
   "source": [
    "### Partitioning\n",
    "\n",
    "A partitioned table is a special table that is divided into segments, called partitions, that make it easier to manage and query your data. You can typically split large tables into many smaller partitions using data ingestion time or `TIMESTAMP/DATE` column or an `INTEGER` column. BigQuery’s decoupled storage and compute architecture leverages column-based partitioning simply to minimize the amount of data that slot workers read from disk. Once slot workers read their data from disk, BigQuery can automatically determine more optimal data sharding and quickly repartition data using BigQuery’s in-memory shuffle service. [[source](https://cloud.google.com/blog/topics/developers-practitioners/bigquery-explained-storage-overview)]\n",
    "\n",
    "![](images/data-engineering-w3/4.png)\n",
    "*[source](https://cloud.google.com/blog/topics/developers-practitioners/bigquery-explained-storage-overview)*\n",
    "\n",
    "Check the previous video and also [here](https://cloud.google.com/blog/topics/developers-practitioners/bigquery-explained-storage-overview) to see an example of the performance gain.\n",
    "\n",
    "The example SQL query can be like this:"
   ]
  },
  {
   "cell_type": "code",
   "execution_count": null,
   "metadata": {},
   "outputs": [],
   "source": [
    "CREATE OR REPLACE TABLE `stackoverflow.questions_2018_partitioned`\n",
    "PARTITION BY\n",
    " DATE(creation_date) AS\n",
    "SELECT\n",
    " *\n",
    "FROM\n",
    " `bigquery-public-data.stackoverflow.posts_questions`\n",
    "WHERE\n",
    " creation_date BETWEEN '2018-01-01' AND '2018-07-01';"
   ]
  },
  {
   "cell_type": "markdown",
   "metadata": {},
   "source": [
    "### Clustering\n",
    "\n",
    "When a table is clustered in BigQuery, the table data is automatically organized based on the contents of one or more columns in the table’s schema. The columns you specify are used to collocate related data. Usually high cardinality and non-temporal columns are preferred for clustering.\n",
    "\n",
    "When data is written to a clustered table, BigQuery sorts the data using the values in the clustering columns. These values are used to organize the data into multiple blocks in BigQuery storage. The order of clustered columns determines the sort order of the data. When new data is added to a table or a specific partition, BigQuery performs automatic re-clustering in the background to restore the sort property of the table or partition. Auto re-clustering is completely free and autonomous for the users. [[source](https://cloud.google.com/blog/topics/developers-practitioners/bigquery-explained-storage-overview)]\n",
    "\n",
    "![](images/data-engineering-w3/5.png)\n",
    "*[source](https://cloud.google.com/blog/topics/developers-practitioners/bigquery-explained-storage-overview)*\n",
    "\n",
    "Clustering can improve the performance of certain types of queries, such as those using filter clauses and queries aggregating data.\n",
    "When a query containing a filter clause filters data based on the clustering columns, BigQuery uses the sorted blocks to eliminate scans of unnecessary data.\n",
    "When a query aggregates data based on the values in the clustering columns, performance is improved because the sorted blocks collocate rows with similar values.\n",
    "BigQuery supports clustering over both partitioned and non-partitioned tables. When you use clustering and partitioning together, your data can be partitioned by a DATE or TIMESTAMP column and then clustered on a different set of columns (up to four columns). [[source](https://cloud.google.com/blog/topics/developers-practitioners/bigquery-explained-storage-overview)]\n",
    "\n",
    "Check the previous video and also [here](https://cloud.google.com/blog/topics/developers-practitioners/bigquery-explained-storage-overview) to see an example of the performance gain.\n",
    "\n",
    "The example SQL query can be like this:\n",
    "\n",
    "```bash\n",
    "CREATE OR REPLACE TABLE `stackoverflow.questions_2018_clustered`\n",
    "PARTITION BY\n",
    " DATE(creation_date)\n",
    "CLUSTER BY\n",
    " tags AS\n",
    "SELECT\n",
    " *\n",
    "FROM\n",
    " `bigquery-public-data.stackoverflow.posts_questions`\n",
    "WHERE\n",
    " creation_date BETWEEN '2018-01-01' AND '2018-07-01';\n",
    " ```"
   ]
  },
  {
   "cell_type": "code",
   "execution_count": null,
   "metadata": {},
   "outputs": [],
   "source": []
  },
  {
   "cell_type": "code",
   "execution_count": null,
   "metadata": {},
   "outputs": [],
   "source": []
  },
  {
   "cell_type": "code",
   "execution_count": null,
   "metadata": {},
   "outputs": [],
   "source": []
  },
  {
   "cell_type": "code",
   "execution_count": null,
   "metadata": {},
   "outputs": [],
   "source": []
  },
  {
   "cell_type": "code",
   "execution_count": null,
   "metadata": {},
   "outputs": [],
   "source": []
  },
  {
   "cell_type": "markdown",
   "metadata": {},
   "source": [
    "Other useful resources:\n",
    "\n",
    "- [BigQuery explained: An overview of BigQuery's architecture](https://cloud.google.com/blog/products/data-analytics/new-blog-series-bigquery-explained-overview)\n",
    "- [BigQuery explained: Storage overview, and how to partition and cluster your data for optimal performance](https://cloud.google.com/blog/topics/developers-practitioners/bigquery-explained-storage-overview)\n",
    "\n",
    "\n",
    "\n",
    "> youtube: https://youtu.be/ZVgt1-LfWW4"
   ]
  },
  {
   "cell_type": "code",
   "execution_count": null,
   "metadata": {},
   "outputs": [],
   "source": []
  }
 ],
 "metadata": {
  "kernelspec": {
   "display_name": "Python 3",
   "language": "python",
   "name": "python3"
  },
  "language_info": {
   "codemirror_mode": {
    "name": "ipython",
    "version": 3
   },
   "file_extension": ".py",
   "mimetype": "text/x-python",
   "name": "python",
   "nbconvert_exporter": "python",
   "pygments_lexer": "ipython3",
   "version": "3.7.9"
  }
 },
 "nbformat": 4,
 "nbformat_minor": 4
}
