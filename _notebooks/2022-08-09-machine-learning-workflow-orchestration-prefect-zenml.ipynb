{
 "cells": [
  {
   "cell_type": "markdown",
   "id": "e6d40819",
   "metadata": {},
   "source": [
    "# \"MLOps project- part 2: Machine Learning Workflow Orchestration using Prefect and ZenML\"\n",
    "> \"Machine learning workflow orchestration.\"\n",
    "\n",
    "- toc: True\n",
    "- branch: master\n",
    "- badges: true\n",
    "- comments: true\n",
    "- categories: [mlops]\n",
    "- image: images/some_folder/your_image.png\n",
    "- hide: false\n",
    "- search_exclude: true"
   ]
  },
  {
   "cell_type": "markdown",
   "id": "96535cbd",
   "metadata": {},
   "source": [
    "In the previous blog post, we saw how to train a model and track experiments using MLflow.\n",
    "In the second blog post in this series, we will get the code from previous step and convert it into a machine learning pipeline. I will show how to do it using two popular tools: Prefect and ZenML. "
   ]
  }
 ],
 "metadata": {
  "kernelspec": {
   "display_name": "Python 3 (ipykernel)",
   "language": "python",
   "name": "python3"
  },
  "language_info": {
   "codemirror_mode": {
    "name": "ipython",
    "version": 3
   },
   "file_extension": ".py",
   "mimetype": "text/x-python",
   "name": "python",
   "nbconvert_exporter": "python",
   "pygments_lexer": "ipython3",
   "version": "3.8.13"
  }
 },
 "nbformat": 4,
 "nbformat_minor": 5
}
