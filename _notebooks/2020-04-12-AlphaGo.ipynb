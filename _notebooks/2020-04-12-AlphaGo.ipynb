{
  "nbformat": 4,
  "nbformat_minor": 0,
  "metadata": {
    "kernelspec": {
      "display_name": "Python 3",
      "language": "python",
      "name": "python3"
    },
    "language_info": {
      "codemirror_mode": {
        "name": "ipython",
        "version": 3
      },
      "file_extension": ".py",
      "mimetype": "text/x-python",
      "name": "python",
      "nbconvert_exporter": "python",
      "pygments_lexer": "ipython3",
      "version": "3.7.6"
    },
    "varInspector": {
      "cols": {
        "lenName": 16,
        "lenType": 16,
        "lenVar": 40
      },
      "kernels_config": {
        "python": {
          "delete_cmd_postfix": "",
          "delete_cmd_prefix": "del ",
          "library": "var_list.py",
          "varRefreshCmd": "print(var_dic_list())"
        },
        "r": {
          "delete_cmd_postfix": ") ",
          "delete_cmd_prefix": "rm(",
          "library": "var_list.r",
          "varRefreshCmd": "cat(var_dic_list()) "
        }
      },
      "types_to_exclude": [
        "module",
        "function",
        "builtin_function_or_method",
        "instance",
        "_Feature"
      ],
      "window_display": false
    },
    "colab": {
      "name": "2020-04-12-AlphaGo.ipynb",
      "provenance": []
    }
  },
  "cells": [
    {
      "cell_type": "markdown",
      "metadata": {
        "id": "_tUJXH8of9iE",
        "colab_type": "text"
      },
      "source": [
        "# AlphaGo: Mastering the game of Go with deep neural networks and tree search\n",
        "> This post is from Deepmind and OpenAI papers series, which I try to summarize and take some notes from some interesting papers from Deepmind and OpenAI. Here I will start with AlphaGo, which tries to combine the Monte Carlo Tree Search algorithm with deep learning to play Go.\n",
        "\n",
        "- toc:true- branch: master- badges: true- comments: true\n",
        "- author: Isaac Kargar\n",
        "- categories: [jupyter]"
      ]
    },
    {
      "cell_type": "markdown",
      "metadata": {
        "id": "dTFH737wf9iF",
        "colab_type": "text"
      },
      "source": [
        "![](https://github.com/kargarisaac/blog/blob/master/_notebooks/my_icons/alphago/alphago_0.png?raw=1)"
      ]
    },
    {
      "cell_type": "markdown",
      "metadata": {
        "id": "rbj6s_C7f9iG",
        "colab_type": "text"
      },
      "source": [
        "![](https://github.com/kargarisaac/blog/blob/master/_notebooks/my_icons/alphago/alphago_1.jpeg?raw=1)"
      ]
    },
    {
      "cell_type": "markdown",
      "metadata": {
        "id": "5VkFulRIf9iH",
        "colab_type": "text"
      },
      "source": [
        "![](https://github.com/kargarisaac/blog/blob/master/_notebooks/my_icons/alphago/alphago_2.jpeg?raw=1)"
      ]
    },
    {
      "cell_type": "markdown",
      "metadata": {
        "id": "0de4DiCWf9iI",
        "colab_type": "text"
      },
      "source": [
        "![](https://github.com/kargarisaac/blog/blob/master/_notebooks/my_icons/alphago/alphago_3.jpeg?raw=1)"
      ]
    },
    {
      "cell_type": "markdown",
      "metadata": {
        "id": "BbYT7Hsrf9iJ",
        "colab_type": "text"
      },
      "source": [
        "![](https://github.com/kargarisaac/blog/blob/master/_notebooks/my_icons/alphago/alphago_4.jpeg?raw=1)"
      ]
    },
    {
      "cell_type": "markdown",
      "metadata": {
        "id": "o-1dmbatf9iK",
        "colab_type": "text"
      },
      "source": [
        "![](https://github.com/kargarisaac/blog/blob/master/_notebooks/my_icons/alphago/alphago_5.jpeg?raw=1)"
      ]
    },
    {
      "cell_type": "markdown",
      "metadata": {
        "id": "_IZaVKxef9iL",
        "colab_type": "text"
      },
      "source": [
        "![](https://github.com/kargarisaac/blog/blob/master/_notebooks/my_icons/alphago/alphago_6.jpeg?raw=1)"
      ]
    },
    {
      "cell_type": "markdown",
      "metadata": {
        "id": "DH0gIo-2f9iM",
        "colab_type": "text"
      },
      "source": [
        "![](https://github.com/kargarisaac/blog/blob/master/_notebooks/my_icons/alphago/alphago_7.jpeg?raw=1)"
      ]
    },
    {
      "cell_type": "markdown",
      "metadata": {
        "id": "ts03Mbrof9iN",
        "colab_type": "text"
      },
      "source": [
        "![](https://github.com/kargarisaac/blog/blob/master/_notebooks/my_icons/alphago/alphago_8.jpeg?raw=1)"
      ]
    },
    {
      "cell_type": "markdown",
      "metadata": {
        "id": "mc3dIMbkf9iO",
        "colab_type": "text"
      },
      "source": [
        "That’s it for the first one. In the next post, I will review the AlphaGo Zero paper."
      ]
    }
  ]
}