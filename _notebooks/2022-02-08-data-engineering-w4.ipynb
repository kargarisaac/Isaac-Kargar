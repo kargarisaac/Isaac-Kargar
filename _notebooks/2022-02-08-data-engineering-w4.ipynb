{
 "cells": [
  {
   "cell_type": "markdown",
   "source": [
    "# \"Data Engineering - Week 4\"\n",
    "> \"Week 4 - Data Engineering Zoomcamp course: Analytics Engineering\"\n",
    "\n",
    "- toc: True\n",
    "- branch: master\n",
    "- badges: true\n",
    "- comments: true\n",
    "- categories: [data engineering, jupyter]\n",
    "- image: images/some_folder/your_image.png\n",
    "- hide: false\n",
    "- search_exclude: true"
   ],
   "metadata": {}
  },
  {
   "cell_type": "markdown",
   "source": [
    "**Note**: The content of this post is from the course videos, my understandings and searches, and reference documentations."
   ],
   "metadata": {}
  },
  {
   "cell_type": "markdown",
   "source": [
    "This week we will learn about Analytics Engineering. \n",
    "\n",
    "# What Is Data Analytics Engineering\n",
    "\n",
    ">Analytics Engineers sit at the intersection of business teams, Data Analytics and Data Engineering and are responsible for bringing robust, efficient, and integrated data models and products to life. Analytics Engineers speak the language of business teams and technical teams, able to translate data insights and analysis needs into models powered by the Enterprise Data Platform. The successful Analytics Engineer is able to blend business acumen with technical expertise and transition between business strategy and data development. [[ref](https://about.gitlab.com/job-families/finance/analytics-engineer/#:~:text=Analytics%20Engineers%20sit%20at%20the,models%20and%20products%20to%20life.)]\n",
    "\n",
    "![](images/de-w4/1.png)\n",
    "*[source](https://youtu.be/uF76d5EmdtU)*\n",
    "\n",
    "> youtube: https://youtu.be/uF76d5EmdtU"
   ],
   "metadata": {}
  },
  {
   "cell_type": "markdown",
   "source": [
    "# Data Build Tool (DBT)\n",
    "\n",
    "dbt (data build tool) enables analytics engineers to transform data in their warehouses by simply writing select statements. dbt handles turning these select statements into tables and views.\n",
    "\n",
    "dbt does the T in ELT (Extract, Load, Transform) processes – it doesn’t extract or load data, but it’s extremely good at transforming data that’s already loaded into your warehouse. [[dbt docs](https://docs.getdbt.com/docs/introduction#:~:text=dbt%20(data%20build%20tool)%20enables,statements%20into%20tables%20and%20views.)]\n",
    "\n",
    "The following image shows exactly where dbt is in the ELT process:\n",
    "\n",
    "![](images/de-w4/2.png)\n",
    "*[source](https://blog.getdbt.com/what-exactly-is-dbt/)*\n",
    "\n",
    "Read [this amazing blog post](https://blog.getdbt.com/what-exactly-is-dbt/) to learn more.\n",
    "\n",
    "A dbt project is a directory of `.sql` and `.yml` files. The directory must contain at a minimum: [[dbt docs](https://docs.getdbt.com/docs/introduction#:~:text=dbt%20(data%20build%20tool)%20enables,statements%20into%20tables%20and%20views.)]\n",
    "\n",
    "- Models: A model is a single .sql file. Each model contains a single select statement that either transforms raw data into a dataset that is ready for analytics, or, more often, is an intermediate step in such a transformation.\n",
    "- A project file: a dbt_project.yml file which configures and defines your dbt project.\n",
    "Projects typically contain a number of other resources as well, including tests, snapshots, and seed files.\n",
    "\n",
    "dbt connects to your data warehouse to run data transformation queries. As such, you’ll need a data warehouse with source data loaded in it to use dbt. dbt natively supports connections to Snowflake, BigQuery, Redshift and Postgres data warehouses, and there’s a number of community-supported adapters for other warehouses. [[dbt docs](https://docs.getdbt.com/docs/introduction#:~:text=dbt%20(data%20build%20tool)%20enables,statements%20into%20tables%20and%20views.)]\n",
    "\n",
    "\n",
    "Check also this video to get a better understanding:\n",
    "\n",
    "> youtube: https://youtu.be/4eCouvVOJUw"
   ],
   "metadata": {}
  },
  {
   "cell_type": "markdown",
   "source": [
    "In this week, we will use dbt as follows:\n",
    "\n",
    "![](images/de-w4/3.png)\n",
    "*[source](https://youtu.be/4eCouvVOJUw)*\n",
    "\n",
    "So, let's get started!\n"
   ],
   "metadata": {}
  },
  {
   "cell_type": "markdown",
   "source": [
    "# Starting a dbt project\n"
   ],
   "metadata": {}
  }
 ],
 "metadata": {
  "orig_nbformat": 4,
  "language_info": {
   "name": "python"
  }
 },
 "nbformat": 4,
 "nbformat_minor": 2
}