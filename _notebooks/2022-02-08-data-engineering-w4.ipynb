{
 "cells": [
  {
   "cell_type": "markdown",
   "source": [
    "# \"Data Engineering - Week 4\"\n",
    "> \"Week 4 - Data Engineering Zoomcamp course: Analytics Engineering\"\n",
    "\n",
    "- toc: True\n",
    "- branch: master\n",
    "- badges: true\n",
    "- comments: true\n",
    "- categories: [data engineering, jupyter]\n",
    "- image: images/some_folder/your_image.png\n",
    "- hide: false\n",
    "- search_exclude: true"
   ],
   "metadata": {}
  },
  {
   "cell_type": "markdown",
   "source": [
    "**Note**: The content of this post is from the course videos, my understandings and searches, and reference documentations."
   ],
   "metadata": {}
  },
  {
   "cell_type": "markdown",
   "source": [
    "This week we will learn about Analytics Engineering. In the previous weeks, we ingested the NY taxi data into Google Cloud Storage and created BigQuery tables and performed some queries on them. This week we will learn how to use DBT to do Analytics and Transformation (the `T` in ELT).\n",
    "\n",
    "# What Is Data Analytics Engineering\n",
    "\n",
    ">Analytics Engineers sit at the intersection of business teams, Data Analytics and Data Engineering and are responsible for bringing robust, efficient, and integrated data models and products to life. Analytics Engineers speak the language of business teams and technical teams, able to translate data insights and analysis needs into models powered by the Enterprise Data Platform. The successful Analytics Engineer is able to blend business acumen with technical expertise and transition between business strategy and data development. [[ref](https://about.gitlab.com/job-families/finance/analytics-engineer/#:~:text=Analytics%20Engineers%20sit%20at%20the,models%20and%20products%20to%20life.)]\n",
    "\n"
   ],
   "metadata": {}
  },
  {
   "cell_type": "markdown",
   "source": [
    "\n",
    "![](images/de-w4/1.png)\n",
    "*[source](https://youtu.be/uF76d5EmdtU)*\n",
    "\n",
    "\n",
    "> youtube: https://youtu.be/uF76d5EmdtU"
   ],
   "metadata": {}
  },
  {
   "cell_type": "markdown",
   "source": [
    "# Data Build Tool (DBT)\n",
    "\n",
    "dbt (data build tool) enables analytics engineers to transform data in their warehouses by simply writing select statements. dbt handles turning these select statements into tables and views.\n",
    "\n",
    "dbt does the T in ELT (Extract, Load, Transform) processes – it doesn’t extract or load data, but it’s extremely good at transforming data that’s already loaded into your warehouse. [[dbt docs](https://docs.getdbt.com/docs/introduction)]\n",
    "\n",
    "The following image shows exactly where dbt is in the ELT process:\n",
    "\n",
    "![](images/de-w4/2.png)\n",
    "*[source](https://blog.getdbt.com/what-exactly-is-dbt/)*\n",
    "\n",
    "Read [this amazing blog post](https://blog.getdbt.com/what-exactly-is-dbt/) to learn more.\n",
    "\n",
    "A dbt project is a directory of `.sql` and `.yml` files. The directory must contain at a minimum: [[dbt docs](https://docs.getdbt.com/docs/introduction)]\n",
    "\n",
    "- Models: A model is a single .sql file. Each model contains a single select statement that either transforms raw data into a dataset that is ready for analytics, or, more often, is an intermediate step in such a transformation.\n",
    "- A project file: a dbt_project.yml file which configures and defines your dbt project.\n",
    "Projects typically contain a number of other resources as well, including tests, snapshots, and seed files.\n",
    "\n",
    "dbt connects to your data warehouse to run data transformation queries. As such, you’ll need a data warehouse with source data loaded in it to use dbt. dbt natively supports connections to Snowflake, BigQuery, Redshift and Postgres data warehouses, and there’s a number of community-supported adapters for other warehouses. [[dbt docs](https://docs.getdbt.com/docs/introduction#:~:text=dbt%20(data%20build%20tool)%20enables,statements%20into%20tables%20and%20views.)]\n",
    "\n",
    "\n",
    "Check also this video to get a better understanding:\n",
    "\n",
    "> youtube: https://youtu.be/4eCouvVOJUw"
   ],
   "metadata": {}
  },
  {
   "cell_type": "markdown",
   "source": [
    "In this week, we will use dbt as follows:\n",
    "\n",
    "![](images/de-w4/3.png)\n",
    "*[source](https://youtu.be/4eCouvVOJUw)*\n",
    "\n",
    "So, let's get started!\n"
   ],
   "metadata": {}
  },
  {
   "cell_type": "markdown",
   "source": [
    "# Starting a dbt project\n",
    "\n",
    "We can start creating a dbt project by using the [starter project](https://github.com/dbt-labs/dbt-starter-project). As we mentioned before, there is a `.yml` file for each project as follows:\n",
    "\n",
    "```yaml\n",
    "\n",
    "# Name your project! Project names should contain only lowercase characters\n",
    "# and underscores. A good package name should reflect your organization's\n",
    "# name or the intended use of these models\n",
    "name: 'my_new_project'\n",
    "version: '1.0.0'\n",
    "\n",
    "# This setting configures which \"profile\" dbt uses for this project.\n",
    "profile: 'default'\n",
    "\n",
    "# These configurations specify where dbt should look for different types of files.\n",
    "# The `source-paths` config, for example, states that models in this project can be\n",
    "# found in the \"models/\" directory. You probably won't need to change these!\n",
    "source-paths: [\"models\"]\n",
    "analysis-paths: [\"analysis\"]\n",
    "test-paths: [\"tests\"]\n",
    "data-paths: [\"data\"]\n",
    "macro-paths: [\"macros\"]\n",
    "snapshot-paths: [\"snapshots\"]\n",
    "\n",
    "target-path: \"target\"  # directory which will store compiled SQL files\n",
    "clean-targets:         # directories to be removed by `dbt clean`\n",
    "  - \"target\"\n",
    "  - \"dbt_modules\"\n",
    "\n",
    "\n",
    "# Configuring models\n",
    "# Full documentation: https://docs.getdbt.com/docs/configuring-models\n",
    "\n",
    "# In this example config, we tell dbt to build all models in the example/ directory\n",
    "# as tables. These settings can be overridden in the individual model files\n",
    "# using the `{{ config(...) }}` macro.\n",
    "models:\n",
    "  my_new_project:\n",
    "    # Applies to all files under models/example/\n",
    "    example:\n",
    "      materialized: view\n",
    "```"
   ],
   "metadata": {}
  },
  {
   "cell_type": "markdown",
   "source": [
    "You can install dbt locally or use it in the cloud. If you want to install it locally and use CLI, follow [these](https://docs.getdbt.com/dbt-cli/install/overview) instructions. \n",
    "\n",
    "We will use cloud for this week without install dbt locally. We will use web editor to build our project and execute dbt commands. First you need to create an account [here](https://www.getdbt.com/signup/). After creating the account, it will guide you to build your first project. Just follow the steps. In the process, it will ask you to select the datawarehouse you want to connect to. You can follow the official instruction [here](https://docs.getdbt.com/docs/dbt-cloud/cloud-configuring-dbt-cloud/cloud-setting-up-bigquery-oauth) or the course instructions [here](https://github.com/DataTalksClub/data-engineering-zoomcamp/blob/main/week_4_analytics_engineering/dbt_cloud_setup.md) to connect your BQ data warehouse to dbt cloud. It will also ask to connect to your GitHub repo (by giving you a ssh-key which you need to add to your github) if you have the project there and want to work on that.\n",
    "\n",
    "If you do all of these steps and add the course repo (I used my own forked version) and initialize the project, you will see sth like this:\n",
    "\n",
    "![](images/de-w4/4.png)\n",
    "\n",
    "\n",
    "\n",
    "\n",
    "To learn more about creating dbt project on cloud, watch the following video: \n",
    "\n",
    "> youtube: https://youtu.be/iMxh6s_wL4Q\n",
    "\n"
   ],
   "metadata": {}
  },
  {
   "cell_type": "markdown",
   "source": [
    "And to learn more about creating dbt project locally and use postgres, watch the following video: (you can also work with BigQuery from you local dbt)\n",
    "\n",
    "> youtube: https://youtu.be/1HmL63e-vRs"
   ],
   "metadata": {}
  },
  {
   "cell_type": "markdown",
   "source": [],
   "metadata": {}
  }
 ],
 "metadata": {
  "orig_nbformat": 4,
  "language_info": {
   "name": "python"
  }
 },
 "nbformat": 4,
 "nbformat_minor": 2
}