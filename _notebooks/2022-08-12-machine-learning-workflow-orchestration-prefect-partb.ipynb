{
 "cells": [
  {
   "cell_type": "markdown",
   "id": "02fa34c5",
   "metadata": {},
   "source": [
    "# \"MLOps project - part 2b: Machine Learning Workflow Orchestration using Prefect\"\n",
    "> \"Machine learning workflow orchestration using Prefect.\"\n",
    "\n",
    "- toc: True\n",
    "- branch: master\n",
    "- badges: true\n",
    "- comments: true\n",
    "- categories: [mlops]\n",
    "- image: images/some_folder/your_image.png\n",
    "- hide: false\n",
    "- search_exclude: true"
   ]
  },
  {
   "cell_type": "markdown",
   "id": "e3fd3ceb",
   "metadata": {},
   "source": [
    "- deployment: https://docs.prefect.io/concepts/deployments/\n",
    "- scheduling: https://docs.prefect.io/concepts/schedules/\n",
    "- gcp:\n",
    "https://docs-v1.prefect.io/api/latest/tasks/gcp.html\n",
    "https://medium.com/the-prefect-blog/prefect-server-101-deploying-to-google-cloud-platform-47354b16afe2\n",
    "https://levelup.gitconnected.com/hacking-ways-to-run-prefect-flow-serverless-in-google-cloud-function-bc6b249126e4\n"
   ]
  }
 ],
 "metadata": {
  "kernelspec": {
   "display_name": "Python 3 (ipykernel)",
   "language": "python",
   "name": "python3"
  },
  "language_info": {
   "codemirror_mode": {
    "name": "ipython",
    "version": 3
   },
   "file_extension": ".py",
   "mimetype": "text/x-python",
   "name": "python",
   "nbconvert_exporter": "python",
   "pygments_lexer": "ipython3",
   "version": "3.8.13"
  }
 },
 "nbformat": 4,
 "nbformat_minor": 5
}
