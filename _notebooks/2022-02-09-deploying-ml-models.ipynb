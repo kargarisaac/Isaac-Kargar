{
 "cells": [
  {
   "cell_type": "markdown",
   "source": [
    "# \"Deploying Machine Learning Models using Docker and AWS Elastic Beanstalk\"\n",
    "> \"We will see how to use a trained ML model and use it in a web service.\"\n",
    "\n",
    "- toc: True\n",
    "- branch: master\n",
    "- badges: true\n",
    "- comments: true\n",
    "- categories: [data engineering, jupyter]\n",
    "- image: images/some_folder/your_image.png\n",
    "- hide: false\n",
    "- search_exclude: true"
   ],
   "metadata": {}
  },
  {
   "cell_type": "markdown",
   "source": [
    "This post is based on week 5 of the ML engineering zoomcamp course by DataTalksClub."
   ],
   "metadata": {}
  },
  {
   "cell_type": "markdown",
   "source": [],
   "metadata": {}
  }
 ],
 "metadata": {
  "orig_nbformat": 4,
  "language_info": {
   "name": "python"
  }
 },
 "nbformat": 4,
 "nbformat_minor": 2
}